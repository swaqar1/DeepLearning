{
  "nbformat": 4,
  "nbformat_minor": 0,
  "metadata": {
    "colab": {
      "name": "MNIST DataSet.ipynb",
      "private_outputs": true,
      "provenance": [],
      "collapsed_sections": [],
      "authorship_tag": "ABX9TyPeyz1Q+o+lCshJed30uJ/z",
      "include_colab_link": true
    },
    "kernelspec": {
      "name": "python3",
      "display_name": "Python 3"
    },
    "accelerator": "GPU"
  },
  "cells": [
    {
      "cell_type": "markdown",
      "metadata": {
        "id": "view-in-github",
        "colab_type": "text"
      },
      "source": [
        "<a href=\"https://colab.research.google.com/github/swaqar1/DeepLearning/blob/main/MNIST_DataSet(Conv2D).ipynb\" target=\"_parent\"><img src=\"https://colab.research.google.com/assets/colab-badge.svg\" alt=\"Open In Colab\"/></a>"
      ]
    },
    {
      "cell_type": "markdown",
      "metadata": {
        "id": "26G8pSqa0ug5"
      },
      "source": [
        "# **IMPORTING LIBRARY**"
      ]
    },
    {
      "cell_type": "code",
      "metadata": {
        "id": "OcFzEIdFzqq_"
      },
      "source": [
        "import numpy as np\n",
        "from tensorflow import keras\n",
        "from tensorflow.keras import layers\n",
        "from keras.layers import Dense, Dropout, MaxPooling2D, Conv2D, Activation, Flatten\n",
        "from keras.regularizers import l2\n",
        "import matplotlib.pyplot as plt\n",
        "from keras import models\n",
        "from keras import utils\n",
        "from keras.datasets import mnist"
      ],
      "execution_count": null,
      "outputs": []
    },
    {
      "cell_type": "code",
      "metadata": {
        "id": "uc_6sexx0sSW"
      },
      "source": [
        "(x_train, y_train), (x_test, y_test)= mnist.load_data()"
      ],
      "execution_count": null,
      "outputs": []
    },
    {
      "cell_type": "markdown",
      "metadata": {
        "id": "1qwdLqiL1L0I"
      },
      "source": [
        "## **Preprocessing Data**"
      ]
    },
    {
      "cell_type": "code",
      "metadata": {
        "id": "OTzjwhKg1Jld"
      },
      "source": [
        "print (\"X_train shape : {}\".format(x_train.shape))\n",
        "print (\"X_test shape : {}\".format(x_test.shape))"
      ],
      "execution_count": null,
      "outputs": []
    },
    {
      "cell_type": "code",
      "metadata": {
        "id": "s1kLwSO-1stS"
      },
      "source": [
        "x_train = x_train.reshape(60000,28,28,1).astype('float32')\n",
        "x_test = x_test.reshape(10000,28,28,1).astype('float32')\n",
        "\n",
        "x_train /=255\n",
        "x_test /=255"
      ],
      "execution_count": null,
      "outputs": []
    },
    {
      "cell_type": "code",
      "metadata": {
        "id": "cV1tCsH724z8"
      },
      "source": [
        "print (\"X_train shape : {}\".format(x_train.shape))\n",
        "print (\"X_test shape : {}\".format(x_test.shape))"
      ],
      "execution_count": null,
      "outputs": []
    },
    {
      "cell_type": "markdown",
      "metadata": {
        "id": "sQL1axCJ4ANO"
      },
      "source": [
        "# **Convert Labels to Categorical**"
      ]
    },
    {
      "cell_type": "code",
      "metadata": {
        "id": "RTDW83-62996"
      },
      "source": [
        "n_classes = 10 # We have 10 outputs to come.\n",
        "\n",
        "print (\"Y_train shape : {}\".format(y_train.shape))\n",
        "print (\"Y_test shape : {}\".format(y_test.shape))"
      ],
      "execution_count": null,
      "outputs": []
    },
    {
      "cell_type": "code",
      "metadata": {
        "id": "3dwxJ-s15tvO"
      },
      "source": [
        "y_train = keras.utils.to_categorical(y_train, n_classes)\n",
        "y_test = keras.utils.to_categorical(y_test, n_classes)"
      ],
      "execution_count": null,
      "outputs": []
    },
    {
      "cell_type": "code",
      "metadata": {
        "id": "n-OsD45e5_79"
      },
      "source": [
        "y_train[0]"
      ],
      "execution_count": null,
      "outputs": []
    },
    {
      "cell_type": "markdown",
      "metadata": {
        "id": "-NpPlCDa6MfH"
      },
      "source": [
        "# **Creating Model**"
      ]
    },
    {
      "cell_type": "code",
      "metadata": {
        "id": "nFGZWAEE6Dnr"
      },
      "source": [
        "model = models.Sequential()\n",
        "model.add(Conv2D(32,(3,3), padding='same', activation='relu', input_shape=(28,28,1), kernel_regularizer=l2(0.01)))\n",
        "model.add(MaxPooling2D((2,2)))\n",
        "model.add(Dropout(0.25))\n",
        "\n",
        "model.add(Conv2D(64, (3, 3), activation='relu'))\n",
        "model.add(MaxPooling2D((2, 2)))\n",
        "model.add(Dropout(0.25))\n",
        "\n",
        "model.add(Conv2D(64, (3, 3), activation='relu'))\n",
        "model.add(MaxPooling2D((2, 2)))\n",
        "model.add(Dropout(0.25))\n",
        "          \n",
        "model.add(Flatten())\n",
        "model.add(Dense(64, activation='relu',kernel_regularizer=l2(0.01)))\n",
        "model.add(Dropout(0.5))\n",
        "model.add(Dense(10, activation='softmax'))"
      ],
      "execution_count": null,
      "outputs": []
    },
    {
      "cell_type": "code",
      "metadata": {
        "id": "mIQubGEV7UGT"
      },
      "source": [
        "model.summary()"
      ],
      "execution_count": null,
      "outputs": []
    },
    {
      "cell_type": "code",
      "metadata": {
        "id": "wk9hOjWm7je4"
      },
      "source": [
        "model.compile(loss='categorical_crossentropy', optimizer='RMSprop', metrics=['accuracy'])"
      ],
      "execution_count": null,
      "outputs": []
    },
    {
      "cell_type": "code",
      "metadata": {
        "id": "vIqnhD0U-DYl"
      },
      "source": [
        "model.fit(x_train, y_train, epochs=50, batch_size=128, validation_data=(x_test, y_test))"
      ],
      "execution_count": null,
      "outputs": []
    },
    {
      "cell_type": "code",
      "metadata": {
        "id": "I1sQ7fsz_La_"
      },
      "source": [
        "accuracy      = model.history.history['accuracy']\n",
        "val_accuracy  = model.history.history['accuracy']\n",
        "\n",
        "loss     = model.history.history['accuracy']\n",
        "val_loss = model.history.history['accuracy']\n",
        "\n",
        "epochs = range(1, len(accuracy) + 1)\n",
        "\n",
        "plt.grid()\n",
        "plt.plot(epochs, accuracy, 'bo', label='Training acc')\n",
        "plt.plot(epochs, val_accuracy, 'b', label='Loss acc')\n",
        "plt.title('Traning and Validation Accuracy')\n",
        "plt.figure()\n",
        "\n",
        "plt.grid()\n",
        "plt.plot(epochs, loss, 'bo', label='Validation  acc')\n",
        "plt.plot(epochs, val_loss, 'b', label='Val Loss')\n",
        "plt.title('Training and Validation Loss')\n",
        "plt.legend()"
      ],
      "execution_count": null,
      "outputs": []
    },
    {
      "cell_type": "code",
      "metadata": {
        "id": "2zvDyyUm_6vx"
      },
      "source": [
        "model.save('mnist.h5')\n",
        "\n"
      ],
      "execution_count": null,
      "outputs": []
    },
    {
      "cell_type": "code",
      "metadata": {
        "id": "fPiFrq_7C6au"
      },
      "source": [
        "model"
      ],
      "execution_count": null,
      "outputs": []
    },
    {
      "cell_type": "code",
      "metadata": {
        "id": "GGfJiOSZLhTW"
      },
      "source": [
        ""
      ],
      "execution_count": null,
      "outputs": []
    }
  ]
}