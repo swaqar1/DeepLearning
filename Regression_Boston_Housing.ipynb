{
  "nbformat": 4,
  "nbformat_minor": 0,
  "metadata": {
    "colab": {
      "name": "Regression_Boston_Housing.ipynb",
      "provenance": [],
      "collapsed_sections": []
    },
    "kernelspec": {
      "name": "python3",
      "display_name": "Python 3"
    },
    "language_info": {
      "name": "python"
    },
    "accelerator": "TPU"
  },
  "cells": [
    {
      "cell_type": "markdown",
      "metadata": {
        "id": "jKgdGFwe3516"
      },
      "source": [
        "Importing Packages"
      ]
    },
    {
      "cell_type": "code",
      "metadata": {
        "id": "462sqV8V3NiJ"
      },
      "source": [
        "import pandas as pd\n",
        "import numpy as np\n",
        "import tensorflow as tf\n",
        "from tensorflow.keras.datasets import boston_housing\n",
        "from tensorflow.keras import models, optimizers, utils, layers\n",
        "import matplotlib.pyplot as plt"
      ],
      "execution_count": 1,
      "outputs": []
    },
    {
      "cell_type": "markdown",
      "metadata": {
        "id": "vNokMHlm4jkl"
      },
      "source": [
        "Loading Datasets"
      ]
    },
    {
      "cell_type": "code",
      "metadata": {
        "colab": {
          "base_uri": "https://localhost:8080/"
        },
        "id": "mIJkXxeO3-h4",
        "outputId": "6b2c848c-9dab-46d1-be43-7b7b1e607f62"
      },
      "source": [
        "(train_data, train_label),(test_data, test_label) = boston_housing.load_data()\n",
        "print (train_data.shape)\n",
        "print (test_data.shape)\n",
        "print (train_label)"
      ],
      "execution_count": 17,
      "outputs": [
        {
          "output_type": "stream",
          "text": [
            "(404, 13)\n",
            "(102, 13)\n",
            "[15.2 42.3 50.  21.1 17.7 18.5 11.3 15.6 15.6 14.4 12.1 17.9 23.1 19.9\n",
            " 15.7  8.8 50.  22.5 24.1 27.5 10.9 30.8 32.9 24.  18.5 13.3 22.9 34.7\n",
            " 16.6 17.5 22.3 16.1 14.9 23.1 34.9 25.  13.9 13.1 20.4 20.  15.2 24.7\n",
            " 22.2 16.7 12.7 15.6 18.4 21.  30.1 15.1 18.7  9.6 31.5 24.8 19.1 22.\n",
            " 14.5 11.  32.  29.4 20.3 24.4 14.6 19.5 14.1 14.3 15.6 10.5  6.3 19.3\n",
            " 19.3 13.4 36.4 17.8 13.5 16.5  8.3 14.3 16.  13.4 28.6 43.5 20.2 22.\n",
            " 23.  20.7 12.5 48.5 14.6 13.4 23.7 50.  21.7 39.8 38.7 22.2 34.9 22.5\n",
            " 31.1 28.7 46.  41.7 21.  26.6 15.  24.4 13.3 21.2 11.7 21.7 19.4 50.\n",
            " 22.8 19.7 24.7 36.2 14.2 18.9 18.3 20.6 24.6 18.2  8.7 44.  10.4 13.2\n",
            " 21.2 37.  30.7 22.9 20.  19.3 31.7 32.  23.1 18.8 10.9 50.  19.6  5.\n",
            " 14.4 19.8 13.8 19.6 23.9 24.5 25.  19.9 17.2 24.6 13.5 26.6 21.4 11.9\n",
            " 22.6 19.6  8.5 23.7 23.1 22.4 20.5 23.6 18.4 35.2 23.1 27.9 20.6 23.7\n",
            " 28.  13.6 27.1 23.6 20.6 18.2 21.7 17.1  8.4 25.3 13.8 22.2 18.4 20.7\n",
            " 31.6 30.5 20.3  8.8 19.2 19.4 23.1 23.  14.8 48.8 22.6 33.4 21.1 13.6\n",
            " 32.2 13.1 23.4 18.9 23.9 11.8 23.3 22.8 19.6 16.7 13.4 22.2 20.4 21.8\n",
            " 26.4 14.9 24.1 23.8 12.3 29.1 21.  19.5 23.3 23.8 17.8 11.5 21.7 19.9\n",
            " 25.  33.4 28.5 21.4 24.3 27.5 33.1 16.2 23.3 48.3 22.9 22.8 13.1 12.7\n",
            " 22.6 15.  15.3 10.5 24.  18.5 21.7 19.5 33.2 23.2  5.  19.1 12.7 22.3\n",
            " 10.2 13.9 16.3 17.  20.1 29.9 17.2 37.3 45.4 17.8 23.2 29.  22.  18.\n",
            " 17.4 34.6 20.1 25.  15.6 24.8 28.2 21.2 21.4 23.8 31.  26.2 17.4 37.9\n",
            " 17.5 20.   8.3 23.9  8.4 13.8  7.2 11.7 17.1 21.6 50.  16.1 20.4 20.6\n",
            " 21.4 20.6 36.5  8.5 24.8 10.8 21.9 17.3 18.9 36.2 14.9 18.2 33.3 21.8\n",
            " 19.7 31.6 24.8 19.4 22.8  7.5 44.8 16.8 18.7 50.  50.  19.5 20.1 50.\n",
            " 17.2 20.8 19.3 41.3 20.4 20.5 13.8 16.5 23.9 20.6 31.5 23.3 16.8 14.\n",
            " 33.8 36.1 12.8 18.3 18.7 19.1 29.  30.1 50.  50.  22.  11.9 37.6 50.\n",
            " 22.7 20.8 23.5 27.9 50.  19.3 23.9 22.6 15.2 21.7 19.2 43.8 20.3 33.2\n",
            " 19.9 22.5 32.7 22.  17.1 19.  15.  16.1 25.1 23.7 28.7 37.2 22.6 16.4\n",
            " 25.  29.8 22.1 17.4 18.1 30.3 17.5 24.7 12.6 26.5 28.7 13.3 10.4 24.4\n",
            " 23.  20.  17.8  7.  11.8 24.4 13.8 19.4 25.2 19.4 19.4 29.1]\n"
          ],
          "name": "stdout"
        }
      ]
    },
    {
      "cell_type": "code",
      "metadata": {
        "colab": {
          "base_uri": "https://localhost:8080/"
        },
        "id": "OZ86v7RY5n9g",
        "outputId": "2f38fc9d-45f3-4054-f2cd-60a5283fa9a0"
      },
      "source": [
        "train_data[0]"
      ],
      "execution_count": 18,
      "outputs": [
        {
          "output_type": "execute_result",
          "data": {
            "text/plain": [
              "array([  1.23247,   0.     ,   8.14   ,   0.     ,   0.538  ,   6.142  ,\n",
              "        91.7    ,   3.9769 ,   4.     , 307.     ,  21.     , 396.9    ,\n",
              "        18.72   ])"
            ]
          },
          "metadata": {
            "tags": []
          },
          "execution_count": 18
        }
      ]
    },
    {
      "cell_type": "code",
      "metadata": {
        "colab": {
          "base_uri": "https://localhost:8080/"
        },
        "id": "KbQkXZPF58A6",
        "outputId": "f78ff88f-c803-4047-b1e1-9e0fff341eed"
      },
      "source": [
        "train_label[0]"
      ],
      "execution_count": 19,
      "outputs": [
        {
          "output_type": "execute_result",
          "data": {
            "text/plain": [
              "15.2"
            ]
          },
          "metadata": {
            "tags": []
          },
          "execution_count": 19
        }
      ]
    },
    {
      "cell_type": "markdown",
      "metadata": {
        "id": "bEDYBdpF6bSp"
      },
      "source": [
        "Preparing Data"
      ]
    },
    {
      "cell_type": "code",
      "metadata": {
        "id": "jgRjk3Qz6MOI"
      },
      "source": [
        "mean = train_data.mean(axis=0)\n",
        "train_data -= mean\n",
        "std = train_data.std(axis=0)\n",
        "train_data /=std\n",
        "test_data -=mean\n",
        "test_data /=std"
      ],
      "execution_count": 20,
      "outputs": []
    },
    {
      "cell_type": "code",
      "metadata": {
        "colab": {
          "base_uri": "https://localhost:8080/"
        },
        "id": "KidLMNuH7iqm",
        "outputId": "b6eea906-3e52-4a3e-9718-cf815d59726a"
      },
      "source": [
        "train_data[0]"
      ],
      "execution_count": 21,
      "outputs": [
        {
          "output_type": "execute_result",
          "data": {
            "text/plain": [
              "array([-0.27224633, -0.48361547, -0.43576161, -0.25683275, -0.1652266 ,\n",
              "       -0.1764426 ,  0.81306188,  0.1166983 , -0.62624905, -0.59517003,\n",
              "        1.14850044,  0.44807713,  0.8252202 ])"
            ]
          },
          "metadata": {
            "tags": []
          },
          "execution_count": 21
        }
      ]
    },
    {
      "cell_type": "markdown",
      "metadata": {
        "id": "MkyYqWK78KJ5"
      },
      "source": [
        "Model Building"
      ]
    },
    {
      "cell_type": "code",
      "metadata": {
        "id": "HGCIXUAB7lIs"
      },
      "source": [
        "def build_model():\n",
        "  model = models.Sequential()\n",
        "  model.add(layers.Dense(64, activation='relu', input_shape=(train_data.shape[1],)))\n",
        "  model.add(layers.Dense(64, activation='relu'))\n",
        "  model.add(layers.Dense(1))\n",
        "  model.compile(optimizer='rmsprop', loss='mse', metrics=['mae'])\n",
        "  return model"
      ],
      "execution_count": 22,
      "outputs": []
    },
    {
      "cell_type": "markdown",
      "metadata": {
        "id": "m_W-UUrd9bPC"
      },
      "source": [
        "K - Fold Validation"
      ]
    },
    {
      "cell_type": "code",
      "metadata": {
        "colab": {
          "base_uri": "https://localhost:8080/"
        },
        "id": "cRCowPkZ9Qas",
        "outputId": "ab7cc1e9-1da8-40ba-d632-d9aeb818986a"
      },
      "source": [
        "k = 4\n",
        "num_val_samples = len(train_data)//k\n",
        "num_epochs = 500\n",
        "all_scores = []\n",
        "all_mae_histories = []\n",
        "for i in range(k):\n",
        "  print ('processing fold # ', i)\n",
        "  val_data = train_data[i * num_val_samples: \n",
        "                        (i + 1) * num_val_samples]\n",
        "  val_labels = train_label[i *num_val_samples:\n",
        "                           (i+1) * num_val_samples]\n",
        "  partial_train_data = np.concatenate([train_data[:i * num_val_samples], \n",
        "                                       train_data[(i + 1) * num_val_samples:]],axis=0)\n",
        "  partial_train_label = np.concatenate([train_label[:i * num_val_samples], \n",
        "                                        train_label[(i +1) * num_val_samples:]],axis=0)\n",
        "  model = build_model()\n",
        "  history = model.fit(partial_train_data, partial_train_label, epochs=num_epochs, batch_size=1, verbose=0)\n",
        "  val_mse, val_mae = model.evaluate(val_data, val_labels, verbose=0)\n",
        "  all_scores.append(val_mse)\n",
        "  mae_history = history.history['mae']\n",
        "  all_mae_histories.append(mae_history)\n"
      ],
      "execution_count": 24,
      "outputs": [
        {
          "output_type": "stream",
          "text": [
            "processing fold #  0\n",
            "processing fold #  1\n",
            "processing fold #  2\n",
            "processing fold #  3\n"
          ],
          "name": "stdout"
        }
      ]
    },
    {
      "cell_type": "markdown",
      "metadata": {
        "id": "h9Razs4ANFDU"
      },
      "source": [
        "# Error"
      ]
    },
    {
      "cell_type": "code",
      "metadata": {
        "id": "a6GPtPB0GdJ8",
        "colab": {
          "base_uri": "https://localhost:8080/"
        },
        "outputId": "6a13def0-3751-4628-fa47-a4a52131d8fc"
      },
      "source": [
        "average_mae_history = [np.mean([x[i] for x in all_mae_histories]) for i in range(num_epochs)]\n",
        "print (\"All fold validation errors \", all_scores)\n",
        "print ('Mean of all validation errors', np.mean(all_scores))\n",
        "print ('Average Mean Absolute Error', average_mae_history)"
      ],
      "execution_count": 25,
      "outputs": [
        {
          "output_type": "stream",
          "text": [
            "All fold validation errors  [10.718419075012207, 16.805723190307617, 15.276890754699707, 14.488972663879395]\n",
            "Mean of all validation errors 14.322501420974731\n",
            "Average Mean Absolute Error [10.77899694442749, 3.676795184612274, 3.0542960166931152, 2.724868357181549, 2.5988157987594604, 2.452986776828766, 2.3875914812088013, 2.2964763045310974, 2.2684894800186157, 2.2189574241638184, 2.187246263027191, 2.1315890550613403, 2.1001941561698914, 2.0529863834381104, 2.070217102766037, 1.996612936258316, 2.00228413939476, 1.997213900089264, 1.9761236906051636, 1.9741876423358917, 1.9206915497779846, 1.9160593450069427, 1.9051325023174286, 1.9011353254318237, 1.8755196034908295, 1.8558495342731476, 1.8508147597312927, 1.8287982940673828, 1.8113433718681335, 1.7970576584339142, 1.8180826902389526, 1.799123376607895, 1.809719979763031, 1.7616422772407532, 1.749068558216095, 1.7447467148303986, 1.7355467677116394, 1.709586650133133, 1.6963547766208649, 1.6912345886230469, 1.6908431649208069, 1.693000853061676, 1.6709682047367096, 1.663652628660202, 1.6361691057682037, 1.6400372087955475, 1.6325315237045288, 1.618679940700531, 1.6187584102153778, 1.6149688065052032, 1.580984652042389, 1.6082738637924194, 1.5605548024177551, 1.5685024559497833, 1.5842017531394958, 1.5618183612823486, 1.5507149398326874, 1.5400291085243225, 1.55340975522995, 1.5264040529727936, 1.5366651713848114, 1.5123599171638489, 1.489487498998642, 1.5067815780639648, 1.4662268459796906, 1.4657307267189026, 1.4617859721183777, 1.4923814833164215, 1.4502156376838684, 1.480642855167389, 1.4253083169460297, 1.4583117067813873, 1.4213085174560547, 1.4222475588321686, 1.4173779785633087, 1.4182958006858826, 1.3965985178947449, 1.3959810733795166, 1.3831309974193573, 1.407915860414505, 1.4068065583705902, 1.3991610407829285, 1.3700818419456482, 1.3442611694335938, 1.334625482559204, 1.3757138848304749, 1.3362587094306946, 1.322460412979126, 1.3453454971313477, 1.3317885994911194, 1.3009697198867798, 1.322016328573227, 1.3202179074287415, 1.3113484382629395, 1.3191744983196259, 1.3156542479991913, 1.3081778585910797, 1.31415194272995, 1.3046987652778625, 1.2850123643875122, 1.288148820400238, 1.284681499004364, 1.2734465599060059, 1.2838741838932037, 1.2630000710487366, 1.2774483263492584, 1.2702553570270538, 1.2329315841197968, 1.2615033388137817, 1.2502383589744568, 1.2228065133094788, 1.2266234755516052, 1.2240065932273865, 1.2081171572208405, 1.2257361710071564, 1.2451517879962921, 1.220552235841751, 1.2075946927070618, 1.1984513401985168, 1.2219379246234894, 1.1851912140846252, 1.2132300734519958, 1.171125739812851, 1.185063660144806, 1.1777943670749664, 1.1702202260494232, 1.1623820066452026, 1.16190105676651, 1.1597506701946259, 1.1649943590164185, 1.1462061405181885, 1.1520756781101227, 1.1520615220069885, 1.1663069427013397, 1.1452944874763489, 1.1701590716838837, 1.1273622512817383, 1.1146638691425323, 1.1590803265571594, 1.1246569156646729, 1.1374633014202118, 1.1249792575836182, 1.1166564226150513, 1.1089898645877838, 1.103038340806961, 1.1043125987052917, 1.1059872508049011, 1.1501731276512146, 1.111006110906601, 1.1277343034744263, 1.0824262201786041, 1.120398759841919, 1.107289656996727, 1.0815148055553436, 1.0829456001520157, 1.0640901327133179, 1.0799504816532135, 1.1060743927955627, 1.0869580060243607, 1.085076481103897, 1.0880742520093918, 1.0834562480449677, 1.0687487423419952, 1.066553771495819, 1.0394461303949356, 1.072619765996933, 1.0638481378555298, 1.0500570386648178, 1.0611516684293747, 1.0309205800294876, 1.0548146218061447, 1.030900478363037, 1.054270938038826, 1.043693095445633, 1.0416313707828522, 1.032309666275978, 1.0325405597686768, 1.0222370475530624, 0.9985114932060242, 1.0328445434570312, 0.9924754053354263, 1.016092374920845, 1.0253334641456604, 1.0007682889699936, 1.0008977204561234, 0.987553671002388, 1.0172650814056396, 0.9679472297430038, 1.0009796619415283, 1.012732520699501, 0.9682868123054504, 1.0007062554359436, 1.0012105107307434, 1.0054408311843872, 0.9778726100921631, 0.9952871203422546, 0.9771074503660202, 0.9976272135972977, 0.9735855907201767, 0.9761929214000702, 0.9748712778091431, 0.9696402698755264, 0.958769828081131, 0.9867507368326187, 0.9744522273540497, 0.956864207983017, 0.9754523634910583, 0.9675808101892471, 0.951798215508461, 0.944596141576767, 0.9760472327470779, 0.9485257416963577, 0.9312436729669571, 0.9495299607515335, 0.9475782960653305, 0.9365808963775635, 0.9423517882823944, 0.9336100965738297, 0.9428529590368271, 0.9183826744556427, 0.9221922159194946, 0.9459429681301117, 0.948189988732338, 0.92732934653759, 0.9390087425708771, 0.9308843612670898, 0.9359291195869446, 0.9465995281934738, 0.903521865606308, 0.9421062618494034, 0.9074121713638306, 0.9111546128988266, 0.9340423345565796, 0.9181710779666901, 0.9303003698587418, 0.9120390117168427, 0.9032172858715057, 0.9244535714387894, 0.9120258688926697, 0.8994446247816086, 0.9122220426797867, 0.8933192044496536, 0.9055812209844589, 0.884299173951149, 0.9081785678863525, 0.904519185423851, 0.9015388786792755, 0.8896838575601578, 0.9082545191049576, 0.8902121931314468, 0.9062918424606323, 0.892804890871048, 0.9012598097324371, 0.8965142518281937, 0.8667498230934143, 0.8813925981521606, 0.8845021426677704, 0.8827371001243591, 0.8682298064231873, 0.8620598167181015, 0.8795082271099091, 0.8582357317209244, 0.8548536002635956, 0.892502099275589, 0.8731119632720947, 0.8559807687997818, 0.8799651265144348, 0.8738825768232346, 0.8779741376638412, 0.8596654236316681, 0.8727357238531113, 0.847432017326355, 0.8434604406356812, 0.8320056647062302, 0.8665062189102173, 0.8619244545698166, 0.8618887066841125, 0.862469270825386, 0.8611705601215363, 0.848398745059967, 0.8617430180311203, 0.8357944339513779, 0.8438396006822586, 0.8459587097167969, 0.8407815247774124, 0.8508475571870804, 0.8409545421600342, 0.8259590715169907, 0.8341800719499588, 0.8498606383800507, 0.8204941600561142, 0.8135782033205032, 0.839538499712944, 0.8408904820680618, 0.8329130113124847, 0.8380018472671509, 0.8129446059465408, 0.8254370391368866, 0.8243977576494217, 0.8279768228530884, 0.8207593709230423, 0.8159324675798416, 0.8050775527954102, 0.8118424415588379, 0.8236583322286606, 0.8110922127962112, 0.8275524377822876, 0.8267253041267395, 0.7966379970312119, 0.8185225576162338, 0.8178953379392624, 0.7873604744672775, 0.8199842274188995, 0.7985772788524628, 0.8214456588029861, 0.8056869655847549, 0.8064832538366318, 0.7966299057006836, 0.7999484837055206, 0.7968398928642273, 0.7929214984178543, 0.8093847632408142, 0.8078030049800873, 0.7811665087938309, 0.800138458609581, 0.7973853200674057, 0.7964147627353668, 0.8036846220493317, 0.7729543596506119, 0.8008758723735809, 0.7898999452590942, 0.7834906578063965, 0.7870652973651886, 0.7894153445959091, 0.7813983112573624, 0.7855455428361893, 0.7642735987901688, 0.7972611784934998, 0.7698435187339783, 0.7831165194511414, 0.7678809612989426, 0.767152339220047, 0.7680219262838364, 0.7756504416465759, 0.7781917303800583, 0.7734708040952682, 0.7881740182638168, 0.7583152055740356, 0.7794837951660156, 0.7620836645364761, 0.7654191553592682, 0.7544547766447067, 0.7769407331943512, 0.7450555860996246, 0.7507966309785843, 0.7519248425960541, 0.7739218026399612, 0.7638673782348633, 0.7575313001871109, 0.7316560000181198, 0.7672965079545975, 0.7455364614725113, 0.7515139877796173, 0.7755223214626312, 0.7556644678115845, 0.7483838200569153, 0.7421696037054062, 0.7505553215742111, 0.7343386262655258, 0.7518653869628906, 0.7440425008535385, 0.7495234906673431, 0.7269960939884186, 0.7428364604711533, 0.7513273358345032, 0.7273763865232468, 0.738242045044899, 0.7337409257888794, 0.7368630319833755, 0.7518448084592819, 0.7412230223417282, 0.7331546992063522, 0.730763390660286, 0.7180502563714981, 0.747689425945282, 0.732223391532898, 0.7462605684995651, 0.731030136346817, 0.7501399368047714, 0.7261767387390137, 0.7195587307214737, 0.7345707267522812, 0.7071142196655273, 0.7302688360214233, 0.7212192416191101, 0.73698790371418, 0.7319690436124802, 0.7154048681259155, 0.7146508395671844, 0.7264529168605804, 0.7068223655223846, 0.7065064907073975, 0.7064586728811264, 0.7128297388553619, 0.7260153591632843, 0.7107222080230713, 0.7224811464548111, 0.7054841220378876, 0.7003587037324905, 0.6872092187404633, 0.7152936160564423, 0.7221107482910156, 0.7061279863119125, 0.7125297337770462, 0.733335480093956, 0.6937024295330048, 0.7128772884607315, 0.6940814405679703, 0.7071657627820969, 0.680114135146141, 0.7047040909528732, 0.6828527748584747, 0.7041867673397064, 0.6908856183290482, 0.6952530592679977, 0.6876640170812607, 0.7112378627061844, 0.6848061680793762, 0.6989511847496033, 0.6985111236572266, 0.6717489957809448, 0.6860015988349915, 0.6881497800350189, 0.6718880087137222, 0.6959330439567566, 0.6890894025564194, 0.6876087337732315, 0.6942899972200394, 0.6865687519311905, 0.6850574463605881, 0.6733980774879456, 0.6772667318582535, 0.6934895217418671, 0.7051744759082794, 0.6742017865180969, 0.6686811298131943, 0.6759456694126129, 0.6913132667541504, 0.6740737408399582, 0.6737182140350342, 0.665034756064415, 0.668371394276619, 0.6798394322395325, 0.674829974770546, 0.6745462864637375, 0.6540387719869614, 0.6725508719682693, 0.6774112284183502, 0.6620431691408157, 0.6671502143144608, 0.6654696613550186, 0.6495620906352997, 0.6614013463258743, 0.6741545796394348, 0.6568873822689056, 0.6632562428712845, 0.6608465760946274, 0.660478875041008, 0.6635072827339172, 0.6470829099416733, 0.6589976400136948, 0.645027682185173, 0.6806888431310654, 0.6600431799888611, 0.6681572049856186, 0.6440535336732864, 0.6521071642637253, 0.6658994257450104, 0.6475430727005005, 0.6335618197917938, 0.6481785476207733, 0.64943927526474, 0.6496897041797638, 0.6626399904489517, 0.6354131996631622, 0.6755815744400024, 0.6391085237264633, 0.6332592219114304, 0.6461477428674698, 0.6656051427125931, 0.6428355872631073, 0.654934749007225, 0.6524924635887146, 0.6595568805932999, 0.6523246467113495, 0.6317252069711685, 0.6385970562696457, 0.628534808754921, 0.6436713933944702, 0.6588089913129807]\n"
          ],
          "name": "stdout"
        }
      ]
    },
    {
      "cell_type": "code",
      "metadata": {
        "colab": {
          "base_uri": "https://localhost:8080/"
        },
        "id": "65RMcOAXNrDZ",
        "outputId": "17d85e5b-3aee-49bf-9a48-0d59ba9263a5"
      },
      "source": [
        "[len(x) for x in all_mae_histories]"
      ],
      "execution_count": 26,
      "outputs": [
        {
          "output_type": "execute_result",
          "data": {
            "text/plain": [
              "[500, 500, 500, 500]"
            ]
          },
          "metadata": {
            "tags": []
          },
          "execution_count": 26
        }
      ]
    },
    {
      "cell_type": "markdown",
      "metadata": {
        "id": "1xGaF5I9SSwM"
      },
      "source": [
        "# Plotting Error"
      ]
    },
    {
      "cell_type": "code",
      "metadata": {
        "id": "hOajouEsP_x6",
        "colab": {
          "base_uri": "https://localhost:8080/",
          "height": 279
        },
        "outputId": "2d8a2f64-5e58-486c-e41e-0438076fe1f3"
      },
      "source": [
        "plt.plot(range(1,len(average_mae_history)+1),average_mae_history)\n",
        "plt.xlabel(\"Epochs\")\n",
        "plt.ylabel(\"Validation MAE\")\n",
        "plt.show() "
      ],
      "execution_count": 38,
      "outputs": [
        {
          "output_type": "display_data",
          "data": {
            "image/png": "[encoded data removed]",
            "text/plain": [
              "<Figure size 432x288 with 1 Axes>"
            ]
          },
          "metadata": {
            "tags": [],
            "needs_background": "light"
          }
        }
      ]
    },
    {
      "cell_type": "markdown",
      "metadata": {
        "id": "bWlBnrjYmYiA"
      },
      "source": [
        "# Smoothing the Curve"
      ]
    },
    {
      "cell_type": "code",
      "metadata": {
        "id": "pqxghFw6QY5Y",
        "colab": {
          "base_uri": "https://localhost:8080/",
          "height": 279
        },
        "outputId": "8b7dfc88-08f5-4b8c-8ef1-18565e95ed7d"
      },
      "source": [
        "def smooth_curve(points, factor=0.9):\n",
        "  smoothed_points = []\n",
        "  for point in points:\n",
        "    if smoothed_points:\n",
        "      previous = smoothed_points[-1]\n",
        "      smoothed_points.append(previous * factor + point * (1 - factor))\n",
        "    else:\n",
        "        smoothed_points.append(point)\n",
        "    return smoothed_points\n",
        "\n",
        "smooth_mae_history = smooth_curve(average_mae_history[10:])\n",
        "plt.plot(range(1, len(smooth_mae_history) + 1), smooth_mae_history)\n",
        "plt.xlabel('Epochs')\n",
        "plt.ylabel('Validation MAE')\n",
        "plt.show()\n"
      ],
      "execution_count": 48,
      "outputs": [
        {
          "output_type": "display_data",
          "data": {
            "image/png": "[encoded data removed]",
            "text/plain": [
              "<Figure size 432x288 with 1 Axes>"
            ]
          },
          "metadata": {
            "tags": [],
            "needs_background": "light"
          }
        }
      ]
    },
    {
      "cell_type": "markdown",
      "metadata": {
        "id": "i2lpW3z7qHmb"
      },
      "source": [
        "# **Training & Validating Final Model on Complete DataSet**"
      ]
    },
    {
      "cell_type": "code",
      "metadata": {
        "colab": {
          "base_uri": "https://localhost:8080/"
        },
        "id": "i5uY_gy4nuRM",
        "outputId": "1e55c871-67ab-4ba0-ea47-01cc0764a61b"
      },
      "source": [
        "model = build_model()\n",
        "model.fit(train_data, train_label,epochs=80, batch_size=16, verbose=0)\n",
        "test_mse_score, test_mae_score = model.evaluate(test_data, test_label)\n",
        "print (test_mae_score)  "
      ],
      "execution_count": 54,
      "outputs": [
        {
          "output_type": "stream",
          "text": [
            "4/4 [==============================] - 0s 3ms/step - loss: 16.5102 - mae: 2.5453\n",
            "2.5452725887298584\n"
          ],
          "name": "stdout"
        }
      ]
    },
    {
      "cell_type": "code",
      "metadata": {
        "id": "MoegPRBqqxnt"
      },
      "source": [
        ""
      ],
      "execution_count": null,
      "outputs": []
    }
  ]
}