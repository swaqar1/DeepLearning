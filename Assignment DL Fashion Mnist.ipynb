{
  "nbformat": 4,
  "nbformat_minor": 0,
  "metadata": {
    "colab": {
      "name": "Copy of Minist Fashion.ipynb",
      "provenance": [],
      "collapsed_sections": []
    },
    "kernelspec": {
      "name": "python3",
      "display_name": "Python 3"
    },
    "accelerator": "TPU"
  },
  "cells": [
    {
      "cell_type": "markdown",
      "metadata": {
        "id": "cKV5BMdC8RLr"
      },
      "source": [
        "Importing Fashion MINST Datasets"
      ]
    },
    {
      "cell_type": "code",
      "metadata": {
        "id": "zg_ARKgV8jjR"
      },
      "source": [
        "#Loading fashion_mnist dataset with Keras\r\n",
        "from tensorflow.keras.datasets import fashion_mnist\r\n",
        "(train_images, train_labels), (test_images, test_labels) = fashion_mnist.load_data()"
      ],
      "execution_count": 34,
      "outputs": []
    },
    {
      "cell_type": "code",
      "metadata": {
        "colab": {
          "base_uri": "https://localhost:8080/"
        },
        "id": "G_b4bHedxCF9",
        "outputId": "4ebe8a49-4f5a-4c34-cd67-a7ee4b7b80ec"
      },
      "source": [
        "print(len(train_images))\r\n",
        "print(len(train_labels))"
      ],
      "execution_count": 35,
      "outputs": [
        {
          "output_type": "stream",
          "text": [
            "60000\n",
            "60000\n"
          ],
          "name": "stdout"
        }
      ]
    },
    {
      "cell_type": "code",
      "metadata": {
        "colab": {
          "base_uri": "https://localhost:8080/"
        },
        "id": "2qYbi16Oxetg",
        "outputId": "fc4c8a85-aeec-4abd-e6f8-80a357d0868a"
      },
      "source": [
        "print(len(test_images))\r\n",
        "print(len(test_labels))"
      ],
      "execution_count": 36,
      "outputs": [
        {
          "output_type": "stream",
          "text": [
            "10000\n",
            "10000\n"
          ],
          "name": "stdout"
        }
      ]
    },
    {
      "cell_type": "code",
      "metadata": {
        "colab": {
          "base_uri": "https://localhost:8080/"
        },
        "id": "P7lidva8xsJk",
        "outputId": "14d42a82-9450-4031-914c-2ae08d017e36"
      },
      "source": [
        "print(train_images.shape)\r\n",
        "print(train_labels.shape)\r\n",
        "print(test_images.shape)\r\n",
        "print(test_labels.shape)"
      ],
      "execution_count": 37,
      "outputs": [
        {
          "output_type": "stream",
          "text": [
            "(60000, 28, 28)\n",
            "(60000,)\n",
            "(10000, 28, 28)\n",
            "(10000,)\n"
          ],
          "name": "stdout"
        }
      ]
    },
    {
      "cell_type": "code",
      "metadata": {
        "id": "nZPoQjU2xyWv"
      },
      "source": [
        "class_names = ['T-shirt/top', 'Trouser', 'Pullover', 'Dress', 'Coat',\r\n",
        "               'Sandal', 'Shirt', 'Sneaker', 'Bag', 'Ankle boot']"
      ],
      "execution_count": 38,
      "outputs": []
    },
    {
      "cell_type": "code",
      "metadata": {
        "colab": {
          "base_uri": "https://localhost:8080/",
          "height": 283
        },
        "id": "BCyW2D6W1D9R",
        "outputId": "396c5f17-b7f4-4172-85ae-9cedc6fe666a"
      },
      "source": [
        "# Image of Fashion_MNIST\r\n",
        "import matplotlib.pyplot as plt\r\n",
        "num = 100\r\n",
        "item=train_labels[num]\r\n",
        "print(\"Class Label:\", class_names[item] )\r\n",
        "plt.imshow(train_images[num],cmap=plt.cm.binary)\r\n",
        "plt.show()"
      ],
      "execution_count": 39,
      "outputs": [
        {
          "output_type": "stream",
          "text": [
            "Class Label: Bag\n"
          ],
          "name": "stdout"
        },
        {
          "output_type": "display_data",
          "data": {
            "image/png": "[encoded data removed]",
            "text/plain": [
              "<Figure size 432x288 with 1 Axes>"
            ]
          },
          "metadata": {
            "tags": [],
            "needs_background": "light"
          }
        }
      ]
    },
    {
      "cell_type": "code",
      "metadata": {
        "id": "nSe-rcpVx3ld"
      },
      "source": [
        "from keras import models\r\n",
        "from keras import layers\r\n",
        "import tensorflow as tf\r\n"
      ],
      "execution_count": 40,
      "outputs": []
    },
    {
      "cell_type": "code",
      "metadata": {
        "id": "V1KN4VezB5x3"
      },
      "source": [
        "model = tf.keras.Sequential()\r\n",
        "model.add(layers.Dense(510,activation='relu',input_shape=(28*28,)))\r\n",
        "model.add(layers.Dense(10,activation='softmax'))\r\n",
        "model.add(tf.keras.layers.Flatten(input_shape=(28,28)))"
      ],
      "execution_count": 41,
      "outputs": []
    },
    {
      "cell_type": "code",
      "metadata": {
        "id": "LKW7Cotu2MPo"
      },
      "source": [
        "# Compilation\r\n",
        "model.compile(optimizer=\"rmsprop\", loss=\"categorical_crossentropy\", metrics=[\"accuracy\"])"
      ],
      "execution_count": 42,
      "outputs": []
    },
    {
      "cell_type": "code",
      "metadata": {
        "id": "ecRk2QxrCJBq"
      },
      "source": [
        "#Preparing the image data\r\n",
        "train_images=train_images.reshape((60000, 28*28))\r\n",
        "train_images=train_images.astype(\"float32\")/255"
      ],
      "execution_count": 43,
      "outputs": []
    },
    {
      "cell_type": "code",
      "metadata": {
        "id": "fsa-QcmCzJJW"
      },
      "source": [
        "test_images=test_images.reshape((10000, 28*28))\r\n",
        "test_images=test_images.astype(\"float32\")/255"
      ],
      "execution_count": 44,
      "outputs": []
    },
    {
      "cell_type": "code",
      "metadata": {
        "id": "Cw5O3mD64FRM"
      },
      "source": [
        "#One Hot Coding\r\n",
        "from tensorflow.keras.utils import to_categorical\r\n",
        "train_labels = to_categorical(train_labels)\r\n",
        "test_labels = to_categorical(test_labels)"
      ],
      "execution_count": 45,
      "outputs": []
    },
    {
      "cell_type": "code",
      "metadata": {
        "colab": {
          "base_uri": "https://localhost:8080/"
        },
        "id": "ZoUtJwcz4un4",
        "outputId": "264ef720-1850-4e1e-9c16-57fb4c6a057a"
      },
      "source": [
        "#Train Model\r\n",
        "model.fit(train_images, train_labels, epochs=10, batch_size=128)\r\n"
      ],
      "execution_count": 46,
      "outputs": [
        {
          "output_type": "stream",
          "text": [
            "Epoch 1/10\n",
            "469/469 [==============================] - 4s 8ms/step - loss: 0.7459 - accuracy: 0.7446\n",
            "Epoch 2/10\n",
            "469/469 [==============================] - 4s 8ms/step - loss: 0.3917 - accuracy: 0.8566\n",
            "Epoch 3/10\n",
            "469/469 [==============================] - 4s 8ms/step - loss: 0.3414 - accuracy: 0.8756\n",
            "Epoch 4/10\n",
            "469/469 [==============================] - 4s 8ms/step - loss: 0.3131 - accuracy: 0.8844\n",
            "Epoch 5/10\n",
            "469/469 [==============================] - 4s 8ms/step - loss: 0.2921 - accuracy: 0.8912\n",
            "Epoch 6/10\n",
            "469/469 [==============================] - 4s 8ms/step - loss: 0.2733 - accuracy: 0.8981\n",
            "Epoch 7/10\n",
            "469/469 [==============================] - 4s 8ms/step - loss: 0.2612 - accuracy: 0.9032\n",
            "Epoch 8/10\n",
            "469/469 [==============================] - 4s 8ms/step - loss: 0.2512 - accuracy: 0.9069\n",
            "Epoch 9/10\n",
            "469/469 [==============================] - 4s 8ms/step - loss: 0.2378 - accuracy: 0.9108\n",
            "Epoch 10/10\n",
            "469/469 [==============================] - 4s 8ms/step - loss: 0.2342 - accuracy: 0.9131\n"
          ],
          "name": "stdout"
        },
        {
          "output_type": "execute_result",
          "data": {
            "text/plain": [
              "<tensorflow.python.keras.callbacks.History at 0x7f9736c5a630>"
            ]
          },
          "metadata": {
            "tags": []
          },
          "execution_count": 46
        }
      ]
    },
    {
      "cell_type": "code",
      "metadata": {
        "id": "JbKQVc855ovq",
        "colab": {
          "base_uri": "https://localhost:8080/"
        },
        "outputId": "01ba9bbe-b2f0-46c4-9fc0-75d34dc9ed59"
      },
      "source": [
        "#Check Model performance of Test Data\r\n",
        "test_loss, test_acc = model.evaluate(test_images, test_labels)\r\n",
        "\r\n"
      ],
      "execution_count": 49,
      "outputs": [
        {
          "output_type": "stream",
          "text": [
            "313/313 [==============================] - 1s 2ms/step - loss: 0.3576 - accuracy: 0.8815\n"
          ],
          "name": "stdout"
        }
      ]
    },
    {
      "cell_type": "code",
      "metadata": {
        "colab": {
          "base_uri": "https://localhost:8080/"
        },
        "id": "VRugULl__AD7",
        "outputId": "0cc955f8-f31d-44bc-a489-38a75f5e9feb"
      },
      "source": [
        "print('test_acc:', test_acc)"
      ],
      "execution_count": 50,
      "outputs": [
        {
          "output_type": "stream",
          "text": [
            "test_acc: 0.8815000057220459\n"
          ],
          "name": "stdout"
        }
      ]
    },
    {
      "cell_type": "code",
      "metadata": {
        "id": "LnVHeOJJ7RLl"
      },
      "source": [
        ""
      ],
      "execution_count": null,
      "outputs": []
    }
  ]
}