{
  "nbformat": 4,
  "nbformat_minor": 0,
  "metadata": {
    "colab": {
      "name": "Copy of Minist Fashion.ipynb",
      "provenance": [],
      "collapsed_sections": []
    },
    "kernelspec": {
      "name": "python3",
      "display_name": "Python 3"
    },
    "accelerator": "TPU"
  },
  "cells": [
    {
      "cell_type": "markdown",
      "metadata": {
        "id": "cKV5BMdC8RLr"
      },
      "source": [
        "Importing Fashion MINST Datasets"
      ]
    },
    {
      "cell_type": "code",
      "metadata": {
        "id": "zg_ARKgV8jjR"
      },
      "source": [
        "from tensorflow.keras.datasets import fashion_mnist\r\n",
        "(train_images, train_lables), (test_images, test_lables) = fashion_mnist.load_data()"
      ],
      "execution_count": null,
      "outputs": []
    },
    {
      "cell_type": "code",
      "metadata": {
        "colab": {
          "base_uri": "https://localhost:8080/"
        },
        "id": "G_b4bHedxCF9",
        "outputId": "bf32195b-99af-40d7-a46c-cc016be857ed"
      },
      "source": [
        "print(len(train_images))\r\n",
        "print(len(train_lables))"
      ],
      "execution_count": null,
      "outputs": [
        {
          "output_type": "stream",
          "text": [
            "60000\n",
            "60000\n"
          ],
          "name": "stdout"
        }
      ]
    },
    {
      "cell_type": "code",
      "metadata": {
        "colab": {
          "base_uri": "https://localhost:8080/"
        },
        "id": "2qYbi16Oxetg",
        "outputId": "8c91d675-38a9-4dff-b293-b5366aae0ed4"
      },
      "source": [
        "print(len(test_images))\r\n",
        "print(len(test_lables))"
      ],
      "execution_count": null,
      "outputs": [
        {
          "output_type": "stream",
          "text": [
            "10000\n",
            "10000\n"
          ],
          "name": "stdout"
        }
      ]
    },
    {
      "cell_type": "code",
      "metadata": {
        "colab": {
          "base_uri": "https://localhost:8080/"
        },
        "id": "P7lidva8xsJk",
        "outputId": "1b621994-0b65-40bd-fa7a-f32f1e097770"
      },
      "source": [
        "print(train_images.shape)\r\n",
        "print(train_lables.shape)\r\n",
        "print(test_images.shape)\r\n",
        "print(test_lables.shape)"
      ],
      "execution_count": null,
      "outputs": [
        {
          "output_type": "stream",
          "text": [
            "(60000, 28, 28)\n",
            "(60000,)\n",
            "(10000, 28, 28)\n",
            "(10000,)\n"
          ],
          "name": "stdout"
        }
      ]
    },
    {
      "cell_type": "code",
      "metadata": {
        "id": "nZPoQjU2xyWv"
      },
      "source": [
        "class_names = ['T-shirt/top', 'Trouser', 'Pullover', 'Dress', 'Coat',\r\n",
        "               'Sandal', 'Shirt', 'Sneaker', 'Bag', 'Ankle boot']"
      ],
      "execution_count": null,
      "outputs": []
    },
    {
      "cell_type": "code",
      "metadata": {
        "colab": {
          "base_uri": "https://localhost:8080/",
          "height": 283
        },
        "id": "BCyW2D6W1D9R",
        "outputId": "539220ab-5871-4c82-8eb8-33184c25aa8b"
      },
      "source": [
        "import matplotlib.pyplot as plt\r\n",
        "num = 100\r\n",
        "item=train_lables[num]\r\n",
        "print(\"Class Label:\", class_names[item] )\r\n",
        "plt.imshow(train_images[num]) \r\n",
        "plt.show()"
      ],
      "execution_count": null,
      "outputs": [
        {
          "output_type": "stream",
          "text": [
            "Class Label: Bag\n"
          ],
          "name": "stdout"
        },
        {
          "output_type": "display_data",
          "data": {
            "image/png": "[encoded data removed]",
            "text/plain": [
              "<Figure size 432x288 with 1 Axes>"
            ]
          },
          "metadata": {
            "tags": [],
            "needs_background": "light"
          }
        }
      ]
    },
    {
      "cell_type": "code",
      "metadata": {
        "id": "nSe-rcpVx3ld"
      },
      "source": [
        "from keras import models\r\n",
        "from keras import layers\r\n",
        "import tensorflow as tf\r\n"
      ],
      "execution_count": null,
      "outputs": []
    },
    {
      "cell_type": "code",
      "metadata": {
        "id": "V1KN4VezB5x3"
      },
      "source": [
        "model = tf.keras.Sequential()\r\n",
        "model.add(layers.Dense(510,activation='relu',input_shape=(28*28,)))\r\n",
        "model.add(layers.Dense(10,activation='softmax'))\r\n",
        "model.add(tf.keras.layers.Flatten(input_shape=(28,28)))"
      ],
      "execution_count": null,
      "outputs": []
    },
    {
      "cell_type": "code",
      "metadata": {
        "id": "LKW7Cotu2MPo"
      },
      "source": [
        "network.compile(optimizer=\"rmsprop\", loss=\"categorical_crossentropy\", metrics=[\"accuracy\"])"
      ],
      "execution_count": null,
      "outputs": []
    },
    {
      "cell_type": "code",
      "metadata": {
        "id": "ecRk2QxrCJBq"
      },
      "source": [
        "train_images=train_images.reshape((60000, 28*28))\r\n",
        "train_images=train_images.astype(\"float32\")/255"
      ],
      "execution_count": null,
      "outputs": []
    },
    {
      "cell_type": "code",
      "metadata": {
        "id": "fsa-QcmCzJJW"
      },
      "source": [
        "test_images=test_images.reshape((10000, 28*28))\r\n",
        "test_images=test_images.astype(\"float32\")/255"
      ],
      "execution_count": null,
      "outputs": []
    },
    {
      "cell_type": "code",
      "metadata": {
        "id": "Cw5O3mD64FRM"
      },
      "source": [
        "from tensorflow.keras.utils import to_categorical\r\n",
        "train_lables = to_categorical(train_lables)\r\n",
        "test_images = to_categorical(test_images)"
      ],
      "execution_count": null,
      "outputs": []
    },
    {
      "cell_type": "code",
      "metadata": {
        "colab": {
          "base_uri": "https://localhost:8080/"
        },
        "id": "ZoUtJwcz4un4",
        "outputId": "853000fb-ef4e-4b2b-d5d3-9f4610696a2a"
      },
      "source": [
        "network.fit(train_images, train_lables, epochs=10, batch_size=128)\r\n"
      ],
      "execution_count": null,
      "outputs": [
        {
          "output_type": "stream",
          "text": [
            "Epoch 1/10\n",
            "469/469 [==============================] - 5s 10ms/step - loss: 0.2402 - accuracy: 0.9138\n",
            "Epoch 2/10\n",
            "469/469 [==============================] - 5s 10ms/step - loss: 0.2148 - accuracy: 0.9203\n",
            "Epoch 3/10\n",
            "469/469 [==============================] - 5s 10ms/step - loss: 0.2071 - accuracy: 0.9241\n",
            "Epoch 4/10\n",
            "469/469 [==============================] - 5s 10ms/step - loss: 0.2064 - accuracy: 0.9238\n",
            "Epoch 5/10\n",
            "469/469 [==============================] - 5s 10ms/step - loss: 0.1968 - accuracy: 0.9276\n",
            "Epoch 6/10\n",
            "469/469 [==============================] - 5s 10ms/step - loss: 0.1888 - accuracy: 0.9308\n",
            "Epoch 7/10\n",
            "469/469 [==============================] - 4s 9ms/step - loss: 0.1843 - accuracy: 0.9313\n",
            "Epoch 8/10\n",
            "469/469 [==============================] - 5s 10ms/step - loss: 0.1815 - accuracy: 0.9325\n",
            "Epoch 9/10\n",
            "469/469 [==============================] - 5s 10ms/step - loss: 0.1712 - accuracy: 0.9378\n",
            "Epoch 10/10\n",
            "469/469 [==============================] - 4s 10ms/step - loss: 0.1732 - accuracy: 0.9375\n"
          ],
          "name": "stdout"
        },
        {
          "output_type": "execute_result",
          "data": {
            "text/plain": [
              "<tensorflow.python.keras.callbacks.History at 0x7fbb62aee2e8>"
            ]
          },
          "metadata": {
            "tags": []
          },
          "execution_count": 130
        }
      ]
    },
    {
      "cell_type": "code",
      "metadata": {
        "id": "JbKQVc855ovq"
      },
      "source": [
        ""
      ],
      "execution_count": null,
      "outputs": []
    }
  ]
}